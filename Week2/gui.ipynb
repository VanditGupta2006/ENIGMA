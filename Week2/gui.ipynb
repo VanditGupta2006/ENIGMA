{
 "cells": [
  {
   "cell_type": "markdown",
   "id": "7d52f190",
   "metadata": {},
   "source": [
    "# Welcome to the Enigma GUI Interface Project! 🧩🔐\n",
    "\n",
    "In this project, we'll use Python and a library called PySimpleGUI to build a Graphical User Interface (GUI) that connects to an Enigma-like encryption machine (connected via a microcontroller).\n",
    "\n",
    "We'll learn:\n",
    "- How GUI layouts work 🧱\n",
    "- How to send messages to a serial device 💬\n",
    "- How to interact with buttons, sliders, listboxes, and inputs 👆\n",
    "\n",
    "References :\n",
    " - [PySimpleGUI Doc](https://docs.pysimplegui.com/en/latest/)\n",
    " - [Tutoral link](https://www.tutorialspoint.com/pysimplegui/)\n"
   ]
  },
  {
   "cell_type": "code",
   "execution_count": null,
   "id": "1f9cbe16",
   "metadata": {},
   "outputs": [],
   "source": [
    "# If you're using Google Colab or a local setup, run this line to install PySimpleGUI\n",
    "!pip install PySimpleGUI\n",
    "!pip install serial"
   ]
  },
  {
   "cell_type": "markdown",
   "id": "368a8fab",
   "metadata": {},
   "source": [
    "Install Required Libraries"
   ]
  },
  {
   "cell_type": "code",
   "execution_count": null,
   "id": "97c9b5e1",
   "metadata": {},
   "outputs": [],
   "source": [
    "import PySimpleGUI as sg\n",
    "import serial\n",
    "import time"
   ]
  },
  {
   "cell_type": "code",
   "execution_count": null,
   "id": "50e5133d",
   "metadata": {},
   "outputs": [],
   "source": [
    "# Create a serial connection to the microcontroller (replace 'COM4' with your correct port)\n",
    "ser = serial.Serial('COM4', 115200, timeout=0.001)\n",
    "#Task: What does 115200 mean in the above line? Why do we need timeout=0.001? Try changing it and observe!"
   ]
  },
  {
   "cell_type": "markdown",
   "id": "fddcb6aa",
   "metadata": {},
   "source": [
    "### Task (for the code below):\n",
    "\n",
    "- Add three more text input sections for rotor1, rotor2, and rotor3.\n",
    "\n",
    "- Add a listbox to choose letters for the rotors from A"
   ]
  },
  {
   "cell_type": "code",
   "execution_count": null,
   "id": "0384647a",
   "metadata": {},
   "outputs": [],
   "source": [
    "font_spec = 'Courier 24 bold'\n",
    "heading_color = '#2FB8AD'\n",
    "alphabet_list = list(\"ABCDEFGHIJKLMNOPQRSTUVWXYZ\")\n",
    "\n",
    "# This defines how the GUI looks\n",
    "layout = [\n",
    "    [sg.Text('Please Input Characters', background_color=heading_color)],\n",
    "    [sg.InputText('', key='pic_input'), sg.Button('Send', key='pic_send')],\n",
    "    ...\n",
    "]"
   ]
  },
  {
   "cell_type": "markdown",
   "id": "9d4c40f4",
   "metadata": {},
   "source": [
    "### Apply Custom Theme to GUI\n",
    "Task: Try changing colors! Make your GUI colorful! "
   ]
  },
  {
   "cell_type": "code",
   "execution_count": null,
   "id": "f37e74cf",
   "metadata": {},
   "outputs": [],
   "source": [
    "sg.SetOptions(\n",
    "    background_color='#9FB8AD',\n",
    "    text_element_background_color='#9FB8AD',\n",
    "    element_background_color='#475841',\n",
    "    button_color=('white', '#475841'),\n",
    ")"
   ]
  },
  {
   "cell_type": "code",
   "execution_count": null,
   "id": "284faa59",
   "metadata": {},
   "outputs": [],
   "source": [
    "##Create and show the window\n",
    "window = sg.Window('ECE4760 Interface', layout, location=(0, 0), finalize=True)"
   ]
  },
  {
   "cell_type": "code",
   "execution_count": null,
   "id": "0ae99922",
   "metadata": {},
   "outputs": [],
   "source": [
    "while True:\n",
    "    event, values = window.read(timeout=20)\n",
    "    \n",
    "    if event == sg.WIN_CLOSED or event == 'Exit':\n",
    "        break\n",
    "\n",
    "    # Send typed message to PIC\n",
    "    if event == 'pic_send':\n",
    "        message = values['pic_input']\n",
    "        ser.write((message + '\\r').encode())"
   ]
  },
  {
   "cell_type": "markdown",
   "id": "a84bef37",
   "metadata": {},
   "source": [
    "**Task**: Add event handling for `rotor1_send`, `rotor2_send`, and `rotor3_send`. Also, read serial data and show it in the `console`."
   ]
  },
  {
   "cell_type": "code",
   "execution_count": null,
   "id": "cbed1be6",
   "metadata": {},
   "outputs": [],
   "source": [
    "# Reset only if checkbox is selected and RESET button clicked\n",
    "if event == 'rtg' and values['r_en']:\n",
    "    ser.send_break()  # sends a reset signal to the PIC"
   ]
  },
  {
   "cell_type": "markdown",
   "id": "e18bdfde",
   "metadata": {},
   "source": [
    "**Task**: Add a checkbox called 'Enable Reset' and a button called 'RESET PIC'."
   ]
  },
  {
   "cell_type": "code",
   "execution_count": null,
   "id": "d8026f60",
   "metadata": {},
   "outputs": [],
   "source": [
    "# Close window after loop ends\n",
    "window.close()"
   ]
  }
 ],
 "metadata": {
  "kernelspec": {
   "display_name": "Python 3",
   "language": "python",
   "name": "python3"
  },
  "language_info": {
   "codemirror_mode": {
    "name": "ipython",
    "version": 3
   },
   "file_extension": ".py",
   "mimetype": "text/x-python",
   "name": "python",
   "nbconvert_exporter": "python",
   "pygments_lexer": "ipython3",
   "version": "3.11.4"
  }
 },
 "nbformat": 4,
 "nbformat_minor": 5
}
