{
 "cells": [
  {
   "cell_type": "markdown",
   "id": "230b721d",
   "metadata": {},
   "source": [
    "# 🧰 PySimpleGUI Basics Tutorial\n",
    "Welcome to your first PySimpleGUI experience! Let's learn the basics of building graphical user interfaces using Python."
   ]
  },
  {
   "cell_type": "code",
   "execution_count": 1,
   "id": "3a7e416b",
   "metadata": {},
   "outputs": [
    {
     "name": "stdout",
     "output_type": "stream",
     "text": [
      "Requirement already satisfied: PySimpleGUI in c:\\users\\shras\\appdata\\local\\programs\\python\\python311\\lib\\site-packages (5.0.8.3)\n"
     ]
    },
    {
     "name": "stderr",
     "output_type": "stream",
     "text": [
      "\n",
      "[notice] A new release of pip is available: 23.3.1 -> 25.1.1\n",
      "[notice] To update, run: python.exe -m pip install --upgrade pip\n"
     ]
    }
   ],
   "source": [
    "!pip install PySimpleGUI"
   ]
  },
  {
   "cell_type": "code",
   "execution_count": 1,
   "id": "efd3bbad",
   "metadata": {},
   "outputs": [
    {
     "name": "stdout",
     "output_type": "stream",
     "text": [
      "Looking in indexes: https://pypi.org/simple, https://PySimpleGUI.net/install\n",
      "Collecting PySimpleGUI\n",
      "  Downloading https://PySimpleGUI.net/tinstall/pysimplegui/PySimpleGUI-5.0.10-py3-none-any.whl (1.1 MB)\n",
      "     ---------------------------------------- 0.0/1.1 MB ? eta -:--:--\n",
      "     ---------------------------------------- 0.0/1.1 MB ? eta -:--:--\n",
      "     ---------------------------------------- 0.0/1.1 MB ? eta -:--:--\n",
      "     - -------------------------------------- 0.0/1.1 MB 326.8 kB/s eta 0:00:04\n",
      "     -- ------------------------------------- 0.1/1.1 MB 272.3 kB/s eta 0:00:04\n",
      "     --- ------------------------------------ 0.1/1.1 MB 348.6 kB/s eta 0:00:03\n",
      "     --- ------------------------------------ 0.1/1.1 MB 346.5 kB/s eta 0:00:03\n",
      "     ----- ---------------------------------- 0.1/1.1 MB 405.9 kB/s eta 0:00:03\n",
      "     ------- -------------------------------- 0.2/1.1 MB 546.1 kB/s eta 0:00:02\n",
      "     ------- -------------------------------- 0.2/1.1 MB 546.1 kB/s eta 0:00:02\n",
      "     --------- ------------------------------ 0.3/1.1 MB 545.8 kB/s eta 0:00:02\n",
      "     ----------------- ---------------------- 0.5/1.1 MB 921.6 kB/s eta 0:00:01\n",
      "     ----------------- ---------------------- 0.5/1.1 MB 921.6 kB/s eta 0:00:01\n",
      "     -------------------- ------------------- 0.5/1.1 MB 872.9 kB/s eta 0:00:01\n",
      "     ----------------------------- ---------- 0.8/1.1 MB 1.2 MB/s eta 0:00:01\n",
      "     ------------------------------------- -- 1.0/1.1 MB 1.4 MB/s eta 0:00:01\n",
      "     ---------------------------------------  1.1/1.1 MB 1.4 MB/s eta 0:00:01\n",
      "     ---------------------------------------- 1.1/1.1 MB 1.4 MB/s eta 0:00:00\n",
      "Collecting rsa (from PySimpleGUI)\n",
      "  Downloading rsa-4.9.1-py3-none-any.whl.metadata (5.6 kB)\n",
      "Collecting pyasn1>=0.1.3 (from rsa->PySimpleGUI)\n",
      "  Downloading pyasn1-0.6.1-py3-none-any.whl.metadata (8.4 kB)\n",
      "Downloading rsa-4.9.1-py3-none-any.whl (34 kB)\n",
      "Downloading pyasn1-0.6.1-py3-none-any.whl (83 kB)\n",
      "   ---------------------------------------- 0.0/83.1 kB ? eta -:--:--\n",
      "   -------------- ------------------------- 30.7/83.1 kB ? eta -:--:--\n",
      "   ---------------------------------------- 83.1/83.1 kB 1.2 MB/s eta 0:00:00\n",
      "Installing collected packages: pyasn1, rsa, PySimpleGUI\n",
      "  Attempting uninstall: pyasn1\n",
      "    Found existing installation: pyasn1 0.5.1\n",
      "    Uninstalling pyasn1-0.5.1:\n",
      "      Successfully uninstalled pyasn1-0.5.1\n",
      "  Attempting uninstall: rsa\n",
      "    Found existing installation: rsa 4.9\n",
      "    Uninstalling rsa-4.9:\n",
      "      Successfully uninstalled rsa-4.9\n",
      "Successfully installed PySimpleGUI-5.0.10 pyasn1-0.6.1 rsa-4.9.1\n"
     ]
    },
    {
     "name": "stderr",
     "output_type": "stream",
     "text": [
      "ERROR: pip's dependency resolver does not currently take into account all the packages that are installed. This behaviour is the source of the following dependency conflicts.\n",
      "pyasn1-modules 0.3.0 requires pyasn1<0.6.0,>=0.4.6, but you have pyasn1 0.6.1 which is incompatible.\n",
      "tensorboard 2.15.1 requires protobuf<4.24,>=3.19.6, but you have protobuf 4.25.3 which is incompatible.\n",
      "\n",
      "[notice] A new release of pip is available: 23.3.1 -> 25.1.1\n",
      "[notice] To update, run: python.exe -m pip install --upgrade pip\n"
     ]
    }
   ],
   "source": [
    "!python -m pip install --force-reinstall --no-cache-dir --extra-index-url https://PySimpleGUI.net/install PySimpleGUI\n",
    "\n"
   ]
  },
  {
   "cell_type": "code",
   "execution_count": 2,
   "id": "68ca3ca7",
   "metadata": {},
   "outputs": [
    {
     "name": "stdout",
     "output_type": "stream",
     "text": [
      "<class 'PySimpleGUI.PySimpleGUI.Text'>\n"
     ]
    }
   ],
   "source": [
    "import PySimpleGUI as sg\n",
    "print(sg.Text)\n"
   ]
  },
  {
   "cell_type": "markdown",
   "id": "6ed3b9bd",
   "metadata": {},
   "source": [
    "## 🎨 Layout Basics\n",
    "A PySimpleGUI window is built from a **list of lists** (rows of elements). Let's start with a simple text window."
   ]
  },
  {
   "cell_type": "code",
   "execution_count": 6,
   "id": "7925866b",
   "metadata": {},
   "outputs": [],
   "source": [
    "\n",
    "import PySimpleGUI as sg\n",
    "\n",
    "layout = [[sg.Text('Hello from PySimpleGUI')], [sg.Button('OK')]]\n",
    "window = sg.Window('Demo Window', layout)\n",
    "\n",
    "while True:\n",
    "    event, values = window.read()\n",
    "    if event == sg.WIN_CLOSED or event == 'OK':\n",
    "        break\n",
    "\n",
    "window.close()\n"
   ]
  },
  {
   "cell_type": "markdown",
   "id": "e0efbcc1",
   "metadata": {},
   "source": [
    "## 📝 Text + Input Field\n",
    "Now let's add an input box to accept user input."
   ]
  },
  {
   "cell_type": "code",
   "execution_count": 7,
   "id": "c96b82d7",
   "metadata": {},
   "outputs": [],
   "source": [
    "\n",
    "layout = [\n",
    "    [sg.Text(\"What's your name?\")],\n",
    "    [sg.InputText()],\n",
    "    [sg.Button(\"Submit\"), sg.Button(\"Exit\")]\n",
    "]\n",
    "window = sg.Window(\"Name Form\", layout)\n",
    "\n",
    "while True:\n",
    "    event, values = window.read()\n",
    "    if event == sg.WIN_CLOSED or event == 'Exit':\n",
    "        break\n",
    "    if event == 'Submit':\n",
    "        sg.popup(f\"Hello, {values[0]}!\")\n",
    "\n",
    "window.close()\n"
   ]
  },
  {
   "cell_type": "markdown",
   "id": "56df7ed2",
   "metadata": {},
   "source": [
    "## ✅ Checkboxes\n",
    "Checkboxes are useful for yes/no or multiple choice options."
   ]
  },
  {
   "cell_type": "code",
   "execution_count": 8,
   "id": "59b46a27",
   "metadata": {},
   "outputs": [],
   "source": [
    "\n",
    "layout = [\n",
    "    [sg.Text(\"What fruits do you like?\")],\n",
    "    [sg.Checkbox('Apple', key='apple'), sg.Checkbox('Banana', key='banana'), sg.Checkbox('Orange', key='orange')],\n",
    "    [sg.Button('Submit')]\n",
    "]\n",
    "\n",
    "window = sg.Window('Fruit Checker', layout)\n",
    "\n",
    "while True:\n",
    "    event, values = window.read()\n",
    "    if event == sg.WIN_CLOSED:\n",
    "        break\n",
    "    if event == 'Submit':\n",
    "        selected = [fruit for fruit, chosen in values.items() if chosen]\n",
    "        sg.popup(f\"You selected: {', '.join(selected)}\")\n",
    "\n",
    "window.close()\n"
   ]
  },
  {
   "cell_type": "markdown",
   "id": "b7583919",
   "metadata": {},
   "source": [
    "## 🎯 Challenge: Your Turn!\n",
    "Create a form that asks for:\n",
    "- Name (input)\n",
    "- Age (input)\n",
    "- Gender (radio buttons)\n",
    "- Favorite hobby (input)\n",
    "\n",
    "Add a Submit button and show a popup with the collected info."
   ]
  }
 ],
 "metadata": {
  "kernelspec": {
   "display_name": "Python 3",
   "language": "python",
   "name": "python3"
  },
  "language_info": {
   "codemirror_mode": {
    "name": "ipython",
    "version": 3
   },
   "file_extension": ".py",
   "mimetype": "text/x-python",
   "name": "python",
   "nbconvert_exporter": "python",
   "pygments_lexer": "ipython3",
   "version": "3.11.4"
  }
 },
 "nbformat": 4,
 "nbformat_minor": 5
}
